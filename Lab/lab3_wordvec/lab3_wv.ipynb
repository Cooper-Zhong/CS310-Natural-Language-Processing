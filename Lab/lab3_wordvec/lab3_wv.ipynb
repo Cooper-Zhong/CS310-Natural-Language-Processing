{
 "cells": [
  {
   "cell_type": "markdown",
   "metadata": {},
   "source": [
    "# CS310 Natural Language Processing\n",
    "# Lab 3: Word Vectors\n",
    "\n",
    "Install `scikit-learn`, `matplotlib`, and `gensim` first\n",
    "\n",
    "```bash\n",
    "pip install -U scikit-learn matplotlib gensim\n",
    "```"
   ]
  },
  {
   "cell_type": "code",
   "execution_count": 6,
   "metadata": {},
   "outputs": [],
   "source": [
    "import itertools\n",
    "from typing import List\n",
    "from collections import Counter\n",
    "\n",
    "import matplotlib.pyplot as plt\n",
    "import numpy as np\n",
    "from sklearn.decomposition import TruncatedSVD"
   ]
  },
  {
   "cell_type": "markdown",
   "metadata": {},
   "source": [
    "## T1. Latent Semantic Analysis (LSA) - A word-document based approach\n",
    "\n",
    "We are working on the first ten chapters of 《论语》 (The Analects of Confucius) in this lab. The text is in Chinese (with punctuations).\n",
    "\n",
    "First, load the corpus data from the folder `lunyu` into a list of documents. We read all lines from the ten TXT files and combine them into a list of strings, `documents`. Each line of text is considered as a *document*.\n",
    "\n",
    "The file names are in the format of `text_ch1.txt`, `text_ch2.txt`, ..., `text_ch10.txt`."
   ]
  },
  {
   "cell_type": "code",
   "execution_count": 7,
   "metadata": {},
   "outputs": [
    {
     "name": "stdout",
     "output_type": "stream",
     "text": [
      "267\n",
      "['子曰： 学而时习之，不亦说乎？有朋自远方来，不亦乐乎？人不知而不愠，不亦君子乎？', '有子曰： 其为人也孝弟，而好犯上者，鲜矣；不好犯上而好作乱者，未之有也。君子务本，本立而道生。孝弟也者，其为仁之本与！', '子曰： 巧言令色，鲜矣仁！']\n"
     ]
    }
   ],
   "source": [
    "documents = []\n",
    "for i in range(1, 11):\n",
    "    with open(f\"lunyu/text_ch{i}.txt\", \"r\") as f:\n",
    "        for line in f:\n",
    "            documents.append(line.strip())\n",
    "\n",
    "# Test result\n",
    "print(len(documents))\n",
    "print(documents[:3])"
   ]
  },
  {
   "cell_type": "markdown",
   "metadata": {},
   "source": [
    "**Clean the data**\n",
    "\n",
    "Replace spaces `' '` with empty string `''`"
   ]
  },
  {
   "cell_type": "code",
   "execution_count": 9,
   "metadata": {},
   "outputs": [
    {
     "data": {
      "text/plain": [
       "['子曰：学而时习之，不亦说乎？有朋自远方来，不亦乐乎？人不知而不愠，不亦君子乎？',\n",
       " '有子曰：其为人也孝弟，而好犯上者，鲜矣；不好犯上而好作乱者，未之有也。君子务本，本立而道生。孝弟也者，其为仁之本与！',\n",
       " '子曰：巧言令色，鲜矣仁！']"
      ]
     },
     "execution_count": 9,
     "metadata": {},
     "output_type": "execute_result"
    }
   ],
   "source": [
    "### START TODO ###\n",
    "for i in range(len(documents)):\n",
    "    documents[i] = documents[i].replace(\" \", \"\")\n",
    "### END TODO ###\n",
    "documents[:3]"
   ]
  },
  {
   "cell_type": "markdown",
   "metadata": {},
   "source": [
    "Concatenate all documents into a single string `words`, whose length is the number of tokens in the corpus."
   ]
  },
  {
   "cell_type": "code",
   "execution_count": 14,
   "metadata": {},
   "outputs": [],
   "source": [
    "### START TODO ###\n",
    "words: str = ''\n",
    "for doc in documents:\n",
    "    words += doc\n",
    "\n",
    "### END TODO ###"
   ]
  },
  {
   "cell_type": "code",
   "execution_count": 15,
   "metadata": {},
   "outputs": [
    {
     "name": "stdout",
     "output_type": "stream",
     "text": [
      "8664\n"
     ]
    }
   ],
   "source": [
    "# Test result\n",
    "print(len(words))\n",
    "\n",
    "# You are expected to see the following output:\n",
    "# 8664"
   ]
  },
  {
   "cell_type": "markdown",
   "metadata": {},
   "source": [
    "**Build vocabulary**\n",
    "\n",
    "Use `collections.Counter` to build a vocabulary of characters (字) from the cleaned data. Yes, we do not use word segmentation here. "
   ]
  },
  {
   "cell_type": "code",
   "execution_count": 27,
   "metadata": {},
   "outputs": [
    {
     "data": {
      "text/plain": [
       "dict_keys(['子', '曰', '：', '学', '而', '时', '习', '之', '，', '不', '亦', '说', '乎', '？', '有', '朋', '自', '远', '方', '来', '乐', '人', '知', '愠', '君', '其', '为', '也', '孝', '弟', '好', '犯', '上', '者', '鲜', '矣', '；', '作', '乱', '未', '。', '务', '本', '立', '道', '生', '仁', '与', '！', '巧', '言', '令', '色', '曾', '吾', '日', '三', '省', '身', '谋', '忠', '友', '交', '信', '传', '千', '乘', '国', '敬', '事', '节', '用', '爱', '使', '民', '以', '入', '则', '出', '谨', '泛', '众', '亲', '行', '余', '力', '文', '夏', '贤', '易', '父', '母', '能', '竭', '致', '虽', '必', '谓', '重', '威', '固', '主', '无', '如', '己', '过', '勿', '惮', '改', '慎', '终', '追', '德', '归', '厚', '禽', '问', '于', '贡', '夫', '至', '是', '邦', '闻', '政', '求', '抑', '温', '、', '良', '恭', '俭', '让', '得', '诸', '异', '在', '观', '志', '没', '年', '可', '礼', '和', '贵', '先', '王', '斯', '美', '小', '大', '由', '所', '近', '义', '复', '耻', '辱', '因', '失', '宗', '食', '饱', '居', '安', '敏', '就', '正', '焉', '已', '贫', '谄', '富', '骄', '何', '若', '《', '诗', '》', '云', '切', '磋', '琢', '磨', '赐', '始', '告', '往', '患', '譬', '北', '辰', '星', '共', '百', '一', '蔽', '思', '邪', '齐', '刑', '免', '且', '格', '十', '五', '四', '惑', '天', '命', '六', '耳', '顺', '七', '从', '心', '欲', '逾', '矩', '孟', '懿', '违', '樊', '迟', '御', '孙', '我', '对', '死', '葬', '祭', '武', '伯', '唯', '疾', '忧', '游', '今', '养', '犬', '马', '皆', '别', '难', '服', '劳', '酒', '馔', '回', '愚', '退', '私', '足', '发', '视', '察', '廋', '哉', '故', '新', '师', '器', '后', '周', '比', '罔', '殆', '攻', '端', '害', '诲', '女', '张', '干', '禄', '多', '阙', '疑', '寡', '尤', '见', '悔', '中', '哀', '公', '孔', '举', '直', '错', '枉', '季', '康', '劝', '临', '庄', '慈', '善', '教', '或', '奚', '书', '惟', '兄', '施', '车', '輗', '軏', '世', '殷', '损', '益', '继', '非', '鬼', '勇', '氏', '八', '佾', '舞', '庭', '忍', '孰', '家', '雍', '彻', '相', '维', '辟', '穆', '取', '堂', '林', '放', '奢', '宁', '丧', '戚', '夷', '狄', '亡', '旅', '泰', '山', '冉', '弗', '救', '呜', '呼', '争', '射', '揖', '升', '下', '饮', '笑', '倩', '兮', '目', '盼', '素', '绚', '绘', '起', '予', '商', '杞', '征', '宋', '献', '禘', '既', '灌', '示', '指', '掌', '神', '贾', '媚', '奥', '灶', '然', '获', '罪', '祷', '监', '二', '代', '郁', '太', '庙', '每', '鄹', '皮', '同', '科', '古', '去', '朔', '饩', '羊', '尔', '尽', '定', '臣', '关', '雎', '淫', '伤', '社', '宰', '松', '柏', '栗', '战', '成', '遂', '谏', '咎', '管', '仲', '官', '摄', '树', '塞', '门', '两', '反', '坫', '语', '鲁', '翕', '纯', '皦', '绎', '仪', '封', '请', '尝', '久', '将', '木', '铎', '韶', '又', '宽', '里', '择', '处', '约', '长', '利', '恶', '苟', '贱', '名', '间', '造', '次', '颠', '沛', '尚', '加', '盖', '各', '党', '朝', '夕', '士', '衣', '议', '适', '莫', '怀', '土', '惠', '怨', '位', '参', '贯', '恕', '喻', '内', '几', '喜', '惧', '躬', '逮', '讷', '孤', '邻', '数', '疏', '冶', '妻', '缧', '绁', '南', '容', '废', '戮', '瑚', '琏', '佞', '口', '给', '屡', '憎', '漆', '雕', '开', '仕', '桴', '浮', '海', '路', '材', '治', '赋', '室', '邑', '赤', '束', '带', '宾', '客', '愈', '敢', '望', '昼', '寝', '朽', '粪', '墙', '圬', '诛', '听', '刚', '申', '枨', '及', '章', '性', '恐', '产', '晏', '平', '臧', '蔡', '藻', '棁', '尹', '旧', '崔', '弑', '陈', '弃', '他', '犹', '清', '再', '狂', '简', '斐', '裁', '叔', '念', '希', '微', '高', '乞', '醯', '左', '丘', '明', '匿', '颜', '渊', '侍', '盍', '愿', '轻', '裘', '敝', '憾', '伐', '老', '少', '讼', '面', '弓', '桑', '乃', '迁', '怒', '贰', '幸', '短', '华', '粟', '釜', '庾', '秉', '肥', '急', '原', '九', '辞', '毋', '乡', '犁', '牛', '骍', '角', '川', '舍', '月', '果', '达', '艺', '闵', '骞', '费', '汶', '牖', '执', '手', '箪', '瓢', '陋', '巷', '堪', '画', '儒', '城', '澹', '台', '灭', '径', '偃', '奔', '殿', '策', '进', '祝', '鮀', '谁', '户', '质', '胜', '野', '史', '彬', '水', '动', '静', '寿', '变', '觚', '井', '逝', '陷', '欺', '博', '畔', '矢', '否', '厌', '庸', '济', '圣', '尧', '舜', '病', '述', '窃', '彭', '默', '识', '倦', '修', '讲', '徙', '燕', '夭', '甚', '衰', '梦', '据', '依', '脩', '愤', '启', '悱', '隅', '侧', '哭', '歌', '藏', '军', '暴', '虎', '冯', '河', '鞭', '斋', '肉', '味', '图', '於', '卫', '诺', '饭', '曲', '肱', '枕', '雅', '叶', '忘', '怪', '桓', '魋', '隐', '恒', '虚', '盈', '钓', '纲', '弋', '宿', '互', '童', '洁', '保', '司', '败', '昭', '巫', '期', '吴', '姓', '岂', '西', '诔', '祇', '坦', '荡', '厉', '猛', '称', '葸', '绞', '笃', '兴', '遗', '偷', '召', '兢', '深', '履', '薄', '冰', '鸟', '鸣', '貌', '慢', '气', '鄙', '倍', '笾', '豆', '存', '实', '校', '昔', '托', '尺', '寄', '夺', '弘', '毅', '任', '才', '吝', '谷', '守', '危', '挚', '洋', '侗', '悾', '巍', '禹', '功', '焕', '唐', '虞', '际', '盛', '妇', '分', '菲', '黼', '冕', '卑', '宫', '沟', '洫', '罕', '麻', '拜', '绝', '意', '畏', '匡', '兹', '纵', '牢', '试', '空', '叩', '凤', '裳', '瞽', '趋', '喟', '叹', '仰', '弥', '钻', '坚', '瞻', '前', '忽', '循', '诱', '罢', '卓', '末', '诈', '玉', '韫', '椟', '沽', '待', '颂', '卿', '勉', '困', '夜', '篑', '止', '地', '覆', '惰', '惜', '苗', '秀', '法', '巽', '帅', '匹', '缊', '袍', '狐', '貉', '忮', '诵', '岁', '寒', '凋', '权', '棣', '偏', '恂', '似', '便', '侃', '訚', '踧', '踖', '摈', '勃', '躩', '右', '襜', '翼', '顾', '鞠', '阈', '屏', '息', '降', '等', '逞', '怡', '阶', '圭', '授', '蹜', '享', '觌', '愉', '绀', '緅', '饰', '红', '紫', '亵', '当', '暑', '袗', '絺', '绤', '表', '缁', '羔', '麑', '黄', '袂', '半', '佩', '帷', '杀', '玄', '冠', '吊', '吉', '布', '坐', '精', '脍', '细', '饐', '餲', '鱼', '馁', '臭', '饪', '割', '酱', '量', '市', '脯', '撤', '姜', '菜', '羹', '瓜', '席', '杖', '傩', '阼', '送', '馈', '药', '受', '厩', '焚', '腥', '熟', '荐', '畜', '东', '首', '拖', '绅', '俟', '驾', '殡', '尸', '狎', '凶', '式', '负', '版', '迅', '雷', '风', '烈', '绥', '翔', '集', '梁', '雌', '雉', '嗅'])"
      ]
     },
     "execution_count": 27,
     "metadata": {},
     "output_type": "execute_result"
    }
   ],
   "source": [
    "### START TODO ###\n",
    "from collections import Counter\n",
    "\n",
    "vocab = Counter(words)\n",
    "\n",
    "### END TODO ###"
   ]
  },
  {
   "cell_type": "code",
   "execution_count": 23,
   "metadata": {},
   "outputs": [
    {
     "name": "stdout",
     "output_type": "stream",
     "text": [
      "[('，', 738), ('。', 405), ('子', 402), ('：', 339), ('曰', 318), ('不', 272), ('也', 254), ('之', 251), ('而', 155), ('？', 126)]\n"
     ]
    }
   ],
   "source": [
    "# Test result\n",
    "print(vocab.most_common(10))\n",
    "\n",
    "# You are expected to see the following output:\n",
    "# [('，', 738), ('。', 405), ('子', 402), ('：', 339), ('曰', 318), ..."
   ]
  },
  {
   "cell_type": "markdown",
   "metadata": {},
   "source": [
    "**Build `word2index`**\n",
    "\n",
    "Use the vocabulary to build a `word2index` dictionary, which maps each character to an integer index.\n",
    "\n",
    "The order of indices should be the descending order of character frequency, i.e., the most frequent character has index 0, the second most frequent character has index 1, and so on.\n",
    "\n",
    "For example: \n",
    "```python\n",
    ">>> word2index['，']\n",
    ">>> 0\n",
    ">>> word2index['。']\n",
    ">>> 1\n",
    "```"
   ]
  },
  {
   "cell_type": "code",
   "execution_count": 36,
   "metadata": {},
   "outputs": [],
   "source": [
    "### START TODO ###\n",
    "char_freq = vocab.items()\n",
    "\n",
    "sorted_char_freq = sorted(char_freq, key=lambda x: x[1], reverse=True)\n",
    "word2index = {char : index for index,(char,freq) in enumerate(sorted_char_freq)}\n",
    "### END TODO ###\n"
   ]
  },
  {
   "cell_type": "code",
   "execution_count": 38,
   "metadata": {},
   "outputs": [
    {
     "name": "stdout",
     "output_type": "stream",
     "text": [
      "[('，', 0), ('。', 1), ('子', 2), ('：', 3), ('曰', 4), ('不', 5), ('也', 6), ('之', 7), ('而', 8), ('？', 9)]\n"
     ]
    }
   ],
   "source": [
    "# Test result\n",
    "print(list(itertools.islice(word2index.items(), 10)))\n",
    "\n",
    "# You are expected to see the following output:\n",
    "# [('，', 0), ('。', 1), ('子', 2), ('：', 3), ('曰', 4), ('不', 5), ('也', 6), ('之', 7), ('而', 8), ('？', 9)]"
   ]
  },
  {
   "cell_type": "markdown",
   "metadata": {},
   "source": [
    "**Initialize word-document matrix**\n",
    "\n",
    "Use `numpy.zeros()` to initialize a word-document matrix `A` with shape `(vocab-size, num-documents)`."
   ]
  },
  {
   "cell_type": "code",
   "execution_count": 39,
   "metadata": {},
   "outputs": [
    {
     "name": "stdout",
     "output_type": "stream",
     "text": [
      "(986, 267)\n",
      "[[0. 0. 0. ... 0. 0. 0.]\n",
      " [0. 0. 0. ... 0. 0. 0.]\n",
      " [0. 0. 0. ... 0. 0. 0.]\n",
      " ...\n",
      " [0. 0. 0. ... 0. 0. 0.]\n",
      " [0. 0. 0. ... 0. 0. 0.]\n",
      " [0. 0. 0. ... 0. 0. 0.]]\n"
     ]
    }
   ],
   "source": [
    "### START TODO ###\n",
    "A = np.zeros((len(word2index), len(documents)))\n",
    "### END TODO ###\n",
    "\n",
    "# Test result\n",
    "print(A.shape)\n",
    "print(A)\n",
    "# You should see a matrix of all zeros with the shape of (vocab_size, num_documents)"
   ]
  },
  {
   "cell_type": "markdown",
   "metadata": {},
   "source": [
    "**Fill in the entries of word-document matrix**\n",
    "\n",
    "`A[i, j]` is the frequency of word `i` in document `j`. For simplicity, you can go through each document and count the frequency of each word that has appeared in the document.\n",
    "\n",
    "You may need the `word2index` dictionary to convert a word to its index, so that the correct row index `i` can be found. The column index `j` is the document index in the list `documents`."
   ]
  },
  {
   "cell_type": "code",
   "execution_count": 42,
   "metadata": {},
   "outputs": [],
   "source": [
    "# Assert A is all zeros; if not, run the previous cell to reset A\n",
    "assert np.all(A == 0)\n",
    "\n",
    "### START TODO ###\n",
    "for j, doc in enumerate(documents):\n",
    "    cnt = 0 \n",
    "    char_counter = Counter(doc)\n",
    "    for char, freq in char_counter.items():\n",
    "        A[word2index[char], j] = freq\n",
    "### END TODO ###"
   ]
  },
  {
   "cell_type": "code",
   "execution_count": 43,
   "metadata": {},
   "outputs": [
    {
     "name": "stdout",
     "output_type": "stream",
     "text": [
      "[[3. 5. 1. 0. 3.]\n",
      " [0. 2. 0. 0. 1.]\n",
      " [2. 2. 1. 1. 1.]\n",
      " [1. 1. 1. 2. 1.]\n",
      " [1. 1. 1. 1. 1.]]\n"
     ]
    }
   ],
   "source": [
    "# Test result\n",
    "print(A[:5, :5])\n",
    "\n",
    "# You are expected to see the following output:\n",
    "# [[3. 5. 1. 0. 3.]\n",
    "#  [0. 2. 0. 0. 1.]\n",
    "#  [2. 2. 1. 1. 1.]\n",
    "#  [1. 1. 1. 2. 1.]\n",
    "#  [1. 1. 1. 1. 1.]]"
   ]
  },
  {
   "cell_type": "markdown",
   "metadata": {},
   "source": [
    "**Compute probabilities from the matrix**\n",
    "\n",
    "What is the total number of occurrences of the character \"学\" in the corpus?\n",
    "\n",
    "*Hint*: Use `numpy.sun()` on the correct subset of the matrix `A`."
   ]
  },
  {
   "cell_type": "code",
   "execution_count": 44,
   "metadata": {},
   "outputs": [
    {
     "name": "stdout",
     "output_type": "stream",
     "text": [
      "25.0\n"
     ]
    }
   ],
   "source": [
    "### START TODO ###\n",
    "count = np.sum(A[word2index['学']])\n",
    "### END TODO ###\n",
    "\n",
    "# Test result\n",
    "print(count)\n",
    "# You are expected to see the following output:\n",
    "# 25.0"
   ]
  },
  {
   "cell_type": "markdown",
   "metadata": {},
   "source": [
    "What is the expected count of the character \"学\" in the first document -- \"子曰：学而时习之，不亦说乎？有朋自远方来，不亦乐乎？人不知而不愠，不亦君子乎？\" (`documents[0]`)?\n",
    "\n",
    "*Hint*: First, compute the global unigram probability of `学`, then multiply it by the number of words in the first document."
   ]
  },
  {
   "cell_type": "code",
   "execution_count": 45,
   "metadata": {},
   "outputs": [
    {
     "name": "stdout",
     "output_type": "stream",
     "text": [
      "0.11253462603878117\n"
     ]
    }
   ],
   "source": [
    "### START TODO ###\n",
    "prob= np.sum(A[word2index['学']])/np.sum(A)\n",
    "expected_count = prob * len(documents[0])\n",
    "### END TODO ###\n",
    "\n",
    "# Test result\n",
    "print(expected_count)\n",
    "# You are expected to see the following output:\n",
    "# 0.11253462603878117"
   ]
  },
  {
   "cell_type": "markdown",
   "metadata": {},
   "source": [
    "What is the *pointwise mutual information* (PMI) of the character \"学\", or \"surprise\" in `document[0]`? What about in document[1]?\n",
    "\n",
    "Complete the implementation of the function `PMI(word, doc, A, word2index, n_words, documents)`\n",
    "\n",
    "*Hint*: \n",
    "- Use the formula for PMI: $\\log(\\frac{\\text{observed count}}{\\text{expected count}})$\n",
    "- Handle the case when the observed count is 0, where the PMI is undefined. In this case, return 0.\n",
    "- The $[]_+$ operation means that we want to keep the PMI value positive. You can use `max()` to achieve this."
   ]
  },
  {
   "cell_type": "code",
   "execution_count": 47,
   "metadata": {},
   "outputs": [
    {
     "name": "stdout",
     "output_type": "stream",
     "text": [
      "2.1844943176829794\n",
      "0\n"
     ]
    }
   ],
   "source": [
    "### START TODO ###\n",
    "import math\n",
    "\n",
    "def PMI(word: str, doc: int, \n",
    "    A: np.ndarray, word2index: dict, \n",
    "    n_words: int, documents: List[str]) -> float:\n",
    "    \"\"\" Compute the pointwise mutual information of a word in a document.\n",
    "    Args:\n",
    "        word: The word to compute PMI for.\n",
    "        doc: The document index.\n",
    "        A: The word-document count matrix.\n",
    "        word2index: The word to index mapping.\n",
    "        n_words: The number of words in the corpus.\n",
    "        documents: The list of documents.\n",
    "    \"\"\"\n",
    "    observed_count = A[word2index[word], doc]\n",
    "    if observed_count == 0:\n",
    "        return 0\n",
    "    expected_count = np.sum(A[word2index[word]]) / np.sum(A) * len(documents[doc])\n",
    "    return max(math.log(observed_count / expected_count), 0)\n",
    "\n",
    "### END TODO ###\n",
    "\n",
    "# Test result\n",
    "print(PMI('学', 0, A, word2index, len(words), documents))\n",
    "print(PMI('学', 1, A, word2index, len(words), documents))\n",
    "# You are expected to see the following output:\n",
    "# 2.1844943176829794\n",
    "# 0"
   ]
  },
  {
   "cell_type": "markdown",
   "metadata": {},
   "source": [
    "**Implement LSA using Truncated SVD**\n",
    "\n",
    "Use [sklearn.decomposition.TruncatedSVD](https://scikit-learn.org/stable/modules/generated/sklearn.decomposition.TruncatedSVD.html). (Check the documentation for more details)\n",
    "\n",
    "\n",
    "Set the number of components to 2, and fit the model with the word-document matrix `A`.\n",
    "\n",
    "Save the dimension reduced matrix to `M`."
   ]
  },
  {
   "cell_type": "code",
   "execution_count": 48,
   "metadata": {},
   "outputs": [],
   "source": [
    "### START TODO ###\n",
    "n_components = 2\n",
    "svd = TruncatedSVD(n_components=n_components)\n",
    "M = svd.fit_transform(A)\n",
    "### END TODO ###"
   ]
  },
  {
   "cell_type": "code",
   "execution_count": 49,
   "metadata": {},
   "outputs": [
    {
     "name": "stdout",
     "output_type": "stream",
     "text": [
      "(986, 2)\n",
      "[1.41745292 0.49413916]\n"
     ]
    }
   ],
   "source": [
    "# Test result\n",
    "print(M.shape)\n",
    "print(M[word2index['学'],:])\n",
    "\n",
    "# You are expected to see the following output:\n",
    "# (986, 2)\n",
    "# [1.41745292 0.4941003 ]"
   ]
  },
  {
   "cell_type": "markdown",
   "metadata": {},
   "source": [
    "Plot some words in the 2D space."
   ]
  },
  {
   "cell_type": "code",
   "execution_count": 51,
   "metadata": {},
   "outputs": [
    {
     "data": {
      "image/png": "[encoded data removed]",
      "text/plain": [
       "<Figure size 600x600 with 1 Axes>"
      ]
     },
     "metadata": {},
     "output_type": "display_data"
    }
   ],
   "source": [
    "words = ['学', '习', '曰', '子', '人', '仁']\n",
    "words_pinyin = ['xue', 'xi', 'yue', 'zi', 'ren1', 'ren2']\n",
    "\n",
    "plt.figure(figsize=(6, 6))\n",
    "for i, word in enumerate(words):\n",
    "    plt.scatter(M[word2index[word], 0], M[word2index[word], 1])\n",
    "    plt.text(M[word2index[word], 0], M[word2index[word], 1], words_pinyin[i])\n",
    "plt.show()"
   ]
  },
  {
   "cell_type": "markdown",
   "metadata": {},
   "source": [
    "## T2. Play with Pretrained Word Vectors\n",
    "\n",
    "Checkout the `gensim` library and its `downloader` API here: https://radimrehurek.com/gensim/downloader.html"
   ]
  },
  {
   "cell_type": "code",
   "execution_count": 52,
   "metadata": {},
   "outputs": [],
   "source": [
    "def load_embedding_model():\n",
    "    \"\"\" Load Pretrained Vectors\n",
    "        Return:\n",
    "            wv_from_bin: All embeddings, each lengh 200 (or 300 if using Google News)\n",
    "    \"\"\"\n",
    "    import gensim.downloader as api\n",
    "    wv_from_bin = api.load(\"glove-wiki-gigaword-200\") # file size 252.1MB, vocab size 400k, dim 200\n",
    "    # You can also try \"word2vec-google-news-300\", which is much larger 1600+MB\n",
    "    print(\"Loaded vocab size %i\" % len(list(wv_from_bin.index_to_key)))\n",
    "    return wv_from_bin\n",
    "\n",
    "\n",
    "# Run this to get the full corpora information\n",
    "# import gensim.downloader as api\n",
    "# api.info()"
   ]
  },
  {
   "cell_type": "code",
   "execution_count": 55,
   "metadata": {},
   "outputs": [
    {
     "name": "stdout",
     "output_type": "stream",
     "text": [
      "[==================================================] 100.0% 252.1/252.1MB downloaded\n",
      "Loaded vocab size 400000\n"
     ]
    }
   ],
   "source": [
    "# -----------------------------------\n",
    "# Run Cell to Load Word Vectors\n",
    "# Note: This will take a couple minutes\n",
    "# -----------------------------------\n",
    "wv_from_bin = load_embedding_model()"
   ]
  },
  {
   "cell_type": "markdown",
   "metadata": {},
   "source": [
    "Play with word analogy task using the `most_similar` method of the `KeyedVectors` class."
   ]
  },
  {
   "cell_type": "code",
   "execution_count": 56,
   "metadata": {},
   "outputs": [
    {
     "name": "stdout",
     "output_type": "stream",
     "text": [
      "[('grandmother', 0.7608445286750793),\n",
      " ('granddaughter', 0.7200808525085449),\n",
      " ('daughter', 0.7168302536010742),\n",
      " ('mother', 0.7151536345481873),\n",
      " ('niece', 0.7005682587623596),\n",
      " ('father', 0.6659887433052063),\n",
      " ('aunt', 0.6623408794403076),\n",
      " ('grandson', 0.6618767976760864),\n",
      " ('grandparents', 0.6446609497070312),\n",
      " ('wife', 0.644535481929779)]\n"
     ]
    }
   ],
   "source": [
    "import pprint\n",
    "\n",
    "# Run this cell to answer the analogy -- man : grandfather :: woman : x\n",
    "pprint.pprint(wv_from_bin.most_similar(positive=['woman', 'grandfather'], negative=['man']))"
   ]
  },
  {
   "cell_type": "markdown",
   "metadata": {},
   "source": [
    "Follow the above example and try any other analogy tasks you like.\n",
    "\n",
    "For instance, China: Beijing = Japan: ?"
   ]
  },
  {
   "cell_type": "code",
   "execution_count": 81,
   "metadata": {},
   "outputs": [
    {
     "name": "stdout",
     "output_type": "stream",
     "text": [
      "[('teacher', 0.7164175510406494),\n",
      " ('students', 0.7089993357658386),\n",
      " ('kindergarten', 0.6597451567649841),\n",
      " ('elementary', 0.6592497825622559),\n",
      " ('teachers', 0.6347498297691345)]\n",
      "[('dinner', 0.6723231673240662),\n",
      " ('lunch', 0.6685366630554199),\n",
      " ('meals', 0.6103238463401794),\n",
      " ('meal', 0.6073320508003235),\n",
      " ('breakfasts', 0.607063889503479)]\n"
     ]
    }
   ],
   "source": [
    "### START TODO ###\n",
    "pprint.pprint(wv_from_bin.most_similar(positive=['school', 'student'], negative=['university'])[:5])\n",
    "pprint.pprint(wv_from_bin.most_similar(positive=['morning', 'breakfast'], negative=['afternoon'])[:5])\n",
    "### END TODO ###"
   ]
  }
 ],
 "metadata": {
  "kernelspec": {
   "display_name": "pytorch-nightly",
   "language": "python",
   "name": "python3"
  },
  "language_info": {
   "codemirror_mode": {
    "name": "ipython",
    "version": 3
   },
   "file_extension": ".py",
   "mimetype": "text/x-python",
   "name": "python",
   "nbconvert_exporter": "python",
   "pygments_lexer": "ipython3",
   "version": "3.10.8"
  }
 },
 "nbformat": 4,
 "nbformat_minor": 2
}
